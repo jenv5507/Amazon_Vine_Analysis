{
  "nbformat": 4,
  "nbformat_minor": 0,
  "metadata": {
    "colab": {
      "name": "Vine_Review_Analysis.ipynb",
      "provenance": [],
      "collapsed_sections": []
    },
    "kernelspec": {
      "name": "python3",
      "display_name": "Python 3"
    },
    "language_info": {
      "name": "python"
    }
  },
  "cells": [
    {
      "cell_type": "code",
      "source": [
        "import os\n",
        "# Find the latest version of spark 3.0 from http://www.apache.org/dist/spark/ and enter as the spark version\n",
        "# For example:\n",
        "# spark_version = 'spark-3.0.3'\n",
        "spark_version = 'spark-3.0.3'\n",
        "os.environ['SPARK_VERSION']=spark_version\n",
        "\n",
        "# Install Spark and Java\n",
        "!apt-get update\n",
        "!apt-get install openjdk-11-jdk-headless -qq > /dev/null\n",
        "!wget -q http://www.apache.org/dist/spark/$SPARK_VERSION/$SPARK_VERSION-bin-hadoop2.7.tgz\n",
        "!tar xf $SPARK_VERSION-bin-hadoop2.7.tgz\n",
        "!pip install -q findspark\n",
        "\n",
        "# Set Environment Variables\n",
        "import os\n",
        "os.environ[\"JAVA_HOME\"] = \"/usr/lib/jvm/java-11-openjdk-amd64\"\n",
        "os.environ[\"SPARK_HOME\"] = f\"/content/{spark_version}-bin-hadoop2.7\"\n",
        "\n",
        "# Start a SparkSession\n",
        "import findspark\n",
        "findspark.init()"
      ],
      "metadata": {
        "colab": {
          "base_uri": "https://localhost:8080/"
        },
        "id": "fCYZD1IKlGK4",
        "outputId": "5949b7a2-035f-41eb-dd47-5ce18860b8de"
      },
      "execution_count": 1,
      "outputs": [
        {
          "output_type": "stream",
          "name": "stdout",
          "text": [
            "\r0% [Working]\r            \rGet:1 http://ppa.launchpad.net/c2d4u.team/c2d4u4.0+/ubuntu bionic InRelease [15.9 kB]\n",
            "\r0% [Waiting for headers] [Connecting to security.ubuntu.com (91.189.91.38)] [Co\r0% [Waiting for headers] [Connecting to security.ubuntu.com (91.189.91.38)] [Co\r                                                                               \rHit:2 http://archive.ubuntu.com/ubuntu bionic InRelease\n",
            "\r                                                                               \rGet:3 http://archive.ubuntu.com/ubuntu bionic-updates InRelease [88.7 kB]\n",
            "\r                                                                               \rHit:4 http://ppa.launchpad.net/cran/libgit2/ubuntu bionic InRelease\n",
            "\r0% [3 InRelease 15.6 kB/88.7 kB 18%] [Connecting to security.ubuntu.com (91.189\r0% [1 InRelease gpgv 15.9 kB] [3 InRelease 15.6 kB/88.7 kB 18%] [Connecting to \r                                                                               \rGet:5 https://cloud.r-project.org/bin/linux/ubuntu bionic-cran40/ InRelease [3,626 B]\n",
            "\r0% [1 InRelease gpgv 15.9 kB] [3 InRelease 15.6 kB/88.7 kB 18%] [Connecting to \r0% [1 InRelease gpgv 15.9 kB] [3 InRelease 15.6 kB/88.7 kB 18%] [Connecting to \r0% [1 InRelease gpgv 15.9 kB] [Waiting for headers] [Connecting to security.ubu\r                                                                               \rGet:6 http://ppa.launchpad.net/deadsnakes/ppa/ubuntu bionic InRelease [15.9 kB]\n",
            "Get:7 http://archive.ubuntu.com/ubuntu bionic-backports InRelease [74.6 kB]\n",
            "Hit:8 http://ppa.launchpad.net/graphics-drivers/ppa/ubuntu bionic InRelease\n",
            "Get:9 http://security.ubuntu.com/ubuntu bionic-security InRelease [88.7 kB]\n",
            "Ign:10 https://developer.download.nvidia.com/compute/cuda/repos/ubuntu1804/x86_64  InRelease\n",
            "Ign:11 https://developer.download.nvidia.com/compute/machine-learning/repos/ubuntu1804/x86_64  InRelease\n",
            "Get:12 https://developer.download.nvidia.com/compute/cuda/repos/ubuntu1804/x86_64  Release [696 B]\n",
            "Hit:13 https://developer.download.nvidia.com/compute/machine-learning/repos/ubuntu1804/x86_64  Release\n",
            "Get:14 http://ppa.launchpad.net/c2d4u.team/c2d4u4.0+/ubuntu bionic/main Sources [1,947 kB]\n",
            "Get:15 https://developer.download.nvidia.com/compute/cuda/repos/ubuntu1804/x86_64  Release.gpg [836 B]\n",
            "Get:16 http://ppa.launchpad.net/c2d4u.team/c2d4u4.0+/ubuntu bionic/main amd64 Packages [996 kB]\n",
            "Get:17 http://archive.ubuntu.com/ubuntu bionic-updates/main amd64 Packages [3,134 kB]\n",
            "Get:18 http://archive.ubuntu.com/ubuntu bionic-updates/universe amd64 Packages [2,268 kB]\n",
            "Get:19 http://ppa.launchpad.net/deadsnakes/ppa/ubuntu bionic/main amd64 Packages [45.3 kB]\n",
            "Get:21 https://developer.download.nvidia.com/compute/cuda/repos/ubuntu1804/x86_64  Packages [953 kB]\n",
            "Get:22 http://security.ubuntu.com/ubuntu bionic-security/main amd64 Packages [2,695 kB]\n",
            "Get:23 http://security.ubuntu.com/ubuntu bionic-security/universe amd64 Packages [1,490 kB]\n",
            "Fetched 13.8 MB in 6s (2,493 kB/s)\n",
            "Reading package lists... Done\n"
          ]
        }
      ]
    },
    {
      "cell_type": "code",
      "source": [
        "# Start Spark session\n",
        "from pyspark.sql import SparkSession\n",
        "spark = SparkSession.builder.appName(\"DataFrameBasics\").getOrCreate()"
      ],
      "metadata": {
        "id": "o9QCW2kXlGk_"
      },
      "execution_count": 2,
      "outputs": []
    },
    {
      "cell_type": "code",
      "source": [
        "from pyspark import SparkFiles\n",
        "url = \"https://s3.amazonaws.com/amazon-reviews-pds/tsv/amazon_reviews_us_Luggage_v1_00.tsv.gz\"\n",
        "spark.sparkContext.addFile(url)\n",
        "df = spark.read.option(\"encoding\", \"UTF-8\").csv(SparkFiles.get(\"\"), sep=\"\\t\", header=True, inferSchema=True)\n",
        "df.show()"
      ],
      "metadata": {
        "colab": {
          "base_uri": "https://localhost:8080/"
        },
        "id": "8sB5LQbM57Hg",
        "outputId": "cdbe6341-e953-4e62-89bf-e7ecc286e4a5"
      },
      "execution_count": 3,
      "outputs": [
        {
          "output_type": "stream",
          "name": "stdout",
          "text": [
            "+-----------+-----------+--------------+----------+--------------+--------------------+----------------+-----------+-------------+-----------+----+-----------------+--------------------+--------------------+-----------+\n",
            "|marketplace|customer_id|     review_id|product_id|product_parent|       product_title|product_category|star_rating|helpful_votes|total_votes|vine|verified_purchase|     review_headline|         review_body|review_date|\n",
            "+-----------+-----------+--------------+----------+--------------+--------------------+----------------+-----------+-------------+-----------+----+-----------------+--------------------+--------------------+-----------+\n",
            "|         US|   40884699| R9CO86UUJCAW5|B00VGTN02Y|     786681372|Teenage Mutant Ni...|         Luggage|          3|            0|          0|   N|                Y|my review of this...|my review of this...| 2015-08-31|\n",
            "|         US|   23208852|R3PR8X6QGVJ8B1|B005KIWL0E|     618251799|Kenneth Cole Reac...|         Luggage|          5|            0|          0|   N|                Y|          Five Stars|       Perfect size.| 2015-08-31|\n",
            "|         US|   17100246|R39BO2819ABUPF|B007UNSHJ6|     810480328|American Touriste...|         Luggage|          4|            0|          0|   N|                Y|            so good.|    So far, so good.| 2015-08-31|\n",
            "|         US|   13533670|R3ADL7V6EGGEEP|B00WHFNXB4|      20765193|15.5 Inch Purple ...|         Luggage|          4|            0|          0|   N|                Y|          Four Stars|seems nicely made...| 2015-08-31|\n",
            "|         US|   38541771|R1OXYPBPLVRMI5|B000M5NBYU|     812890709|Port & Company Zi...|         Luggage|          5|            0|          0|   N|                Y|           Dance Bag|Great bag for all...| 2015-08-31|\n",
            "|         US|   12686499|R1WYM8Z5ATQ98O|B00ACBJ89G|     624906499|J World New York ...|         Luggage|          3|            0|          0|   N|                Y|        TOO SMALL!!!|it´s nice BUT it´...| 2015-08-31|\n",
            "|         US|   27767206|R3LCIANTN1H9EC|B001H4BQ1A|     385044506|Voltage Valet Clo...|         Luggage|          4|            1|          1|   N|                Y|          Four Stars|It does the job b...| 2015-08-31|\n",
            "|         US|   46630606|R3U2M23N1P0KQ6|B00ESG6NDK|      51297652|Pro Packing Cubes...|         Luggage|          5|            0|          0|   N|                Y|          Five Stars|          Just fine.| 2015-08-31|\n",
            "|         US|   41622754|R29MB6N7HB6NZI|B00M14SAXC|     832113872|Girl's Dance Duff...|         Luggage|          1|            2|          2|   N|                Y|We were exited to...|We were exited to...| 2015-08-31|\n",
            "|         US|   15296380| RGEQ6DGRG7DQG|B012PC5QAY|     490793867|Disney Inside Out...|         Luggage|          5|            0|          0|   N|                Y|               cute!|Very nice and we'...| 2015-08-31|\n",
            "|         US|   21206415|R38HNH0BSS2KFE|B00VWKWWMG|     356411837|World Traveler 13...|         Luggage|          1|            1|          1|   N|                Y|            One Star|Brought it on vac...| 2015-08-31|\n",
            "|         US|   34554097|R2CATRM9CH59LY|B00N2U14UK|     326835930|Sherpani Trevia C...|         Luggage|          5|            4|          4|   N|                Y|A great bag for t...|I purchased this ...| 2015-08-31|\n",
            "|         US|   42252567|R18DMKNDPJ1BSN|B00K4F45CA|     954517686|Rockland Luggage ...|         Luggage|          5|            0|          1|   N|                Y|             Perfect|Love this light w...| 2015-08-31|\n",
            "|         US|    3532342| RZRSHBWXO3XUQ|B00U57FFA8|      98867907|Allant 16\" Padded...|         Luggage|          5|            0|          0|   N|                Y|it's durable and ...|Purchased this ba...| 2015-08-31|\n",
            "|         US|    7791634|R1BMTNSYCZY1NI|B00ROSRFQ8|     648371973|Polare Manly Real...|         Luggage|          3|            1|          1|   N|                Y|Strong well-made ...|I've had this bag...| 2015-08-31|\n",
            "|         US|    9911099| RPE2S0HZQ9EFP|B003ZV71BM|     406795103|American Flyer Lu...|         Luggage|          5|            0|          0|   N|                Y|          Five Stars|Love love love my...| 2015-08-31|\n",
            "|         US|   46124918|R2OOWJSFPDDA03|B00NJYB2JM|     255715129|Victoriatourist V...|         Luggage|          3|            0|          1|   N|                Y|         Three Stars|Smaller than expe...| 2015-08-31|\n",
            "|         US|     200537|R3EED64ZPXGZ92|B00LD0A4N4|     244117760|EcoCity Vintage C...|         Luggage|          3|            0|          0|   N|                Y|         Three Stars|Within the first ...| 2015-08-31|\n",
            "|         US|    1403856|R1BI8NF6YRH5HD|B00N5GVF6O|     626808161|Bolang Water Resi...|         Luggage|          5|            0|          0|   N|                Y|     Laptop backpack|Nice nice sturdy ...| 2015-08-31|\n",
            "|         US|    8201781| RUD7SDRQTAVMC|B00C75KZPQ|     176437087|Travelon Cosmetic...|         Luggage|          5|            0|          0|   N|                Y|           Fabulous!|Fabulous! Can use...| 2015-08-31|\n",
            "+-----------+-----------+--------------+----------+--------------+--------------------+----------------+-----------+-------------+-----------+----+-----------------+--------------------+--------------------+-----------+\n",
            "only showing top 20 rows\n",
            "\n"
          ]
        }
      ]
    },
    {
      "cell_type": "code",
      "source": [
        "vine_df = df.select(\"review_id\", \"star_rating\", \"helpful_votes\", \"total_votes\", \"vine\", \"verified_purchase\")\n",
        "vine_df.show()"
      ],
      "metadata": {
        "colab": {
          "base_uri": "https://localhost:8080/"
        },
        "id": "jQ4xaNEL57XF",
        "outputId": "0a287655-e757-41b3-ad8c-f084f2972de7"
      },
      "execution_count": 4,
      "outputs": [
        {
          "output_type": "stream",
          "name": "stdout",
          "text": [
            "+--------------+-----------+-------------+-----------+----+-----------------+\n",
            "|     review_id|star_rating|helpful_votes|total_votes|vine|verified_purchase|\n",
            "+--------------+-----------+-------------+-----------+----+-----------------+\n",
            "| R9CO86UUJCAW5|          3|            0|          0|   N|                Y|\n",
            "|R3PR8X6QGVJ8B1|          5|            0|          0|   N|                Y|\n",
            "|R39BO2819ABUPF|          4|            0|          0|   N|                Y|\n",
            "|R3ADL7V6EGGEEP|          4|            0|          0|   N|                Y|\n",
            "|R1OXYPBPLVRMI5|          5|            0|          0|   N|                Y|\n",
            "|R1WYM8Z5ATQ98O|          3|            0|          0|   N|                Y|\n",
            "|R3LCIANTN1H9EC|          4|            1|          1|   N|                Y|\n",
            "|R3U2M23N1P0KQ6|          5|            0|          0|   N|                Y|\n",
            "|R29MB6N7HB6NZI|          1|            2|          2|   N|                Y|\n",
            "| RGEQ6DGRG7DQG|          5|            0|          0|   N|                Y|\n",
            "|R38HNH0BSS2KFE|          1|            1|          1|   N|                Y|\n",
            "|R2CATRM9CH59LY|          5|            4|          4|   N|                Y|\n",
            "|R18DMKNDPJ1BSN|          5|            0|          1|   N|                Y|\n",
            "| RZRSHBWXO3XUQ|          5|            0|          0|   N|                Y|\n",
            "|R1BMTNSYCZY1NI|          3|            1|          1|   N|                Y|\n",
            "| RPE2S0HZQ9EFP|          5|            0|          0|   N|                Y|\n",
            "|R2OOWJSFPDDA03|          3|            0|          1|   N|                Y|\n",
            "|R3EED64ZPXGZ92|          3|            0|          0|   N|                Y|\n",
            "|R1BI8NF6YRH5HD|          5|            0|          0|   N|                Y|\n",
            "| RUD7SDRQTAVMC|          5|            0|          0|   N|                Y|\n",
            "+--------------+-----------+-------------+-----------+----+-----------------+\n",
            "only showing top 20 rows\n",
            "\n"
          ]
        }
      ]
    },
    {
      "cell_type": "code",
      "source": [
        "from pyspark.sql.functions import count\n",
        "vine_df_counts = vine_df.filter(\"total_votes >= 20\")\n",
        "vine_df_counts.show()"
      ],
      "metadata": {
        "colab": {
          "base_uri": "https://localhost:8080/"
        },
        "id": "6u26iav7Cr1F",
        "outputId": "20426668-e9f4-4e2c-fc6c-8e0f7102bd13"
      },
      "execution_count": 5,
      "outputs": [
        {
          "output_type": "stream",
          "name": "stdout",
          "text": [
            "+--------------+-----------+-------------+-----------+----+-----------------+\n",
            "|     review_id|star_rating|helpful_votes|total_votes|vine|verified_purchase|\n",
            "+--------------+-----------+-------------+-----------+----+-----------------+\n",
            "|R11IBSD5E6HPSD|          1|           29|         31|   N|                Y|\n",
            "|R2KVWAYBPWK1OV|          5|           20|         22|   N|                N|\n",
            "|R1FLOE9E4ODIGR|          5|           34|         38|   N|                Y|\n",
            "| R6XTEZCSCUJ4J|          5|           20|         23|   N|                Y|\n",
            "|R2WVV9LQKIVMOX|          5|           23|         23|   N|                N|\n",
            "| RYIU6GIB4TYT2|          5|           30|         30|   N|                N|\n",
            "| RNXGKYVCJDDL7|          5|           28|         28|   N|                Y|\n",
            "|R1E8V7J0K61754|          5|           18|         20|   N|                Y|\n",
            "| RK52L3B5733BH|          5|           22|         22|   N|                N|\n",
            "|R213PW7RSI6Z7N|          5|           48|         50|   N|                Y|\n",
            "| RUBBVNQCSYCDF|          5|           23|         24|   N|                Y|\n",
            "|R3IU65JJME7XHN|          5|           25|         27|   N|                N|\n",
            "|R25UFG485PAY9U|          5|           21|         22|   N|                Y|\n",
            "|R3V2GWR8BL2801|          5|           45|         46|   N|                Y|\n",
            "|R3ORL5J14E2IV7|          5|           27|         28|   N|                Y|\n",
            "|R3KMWBKK1ZWL0I|          5|           20|         23|   N|                Y|\n",
            "|R33FFKFYFU92PR|          1|           35|         48|   N|                Y|\n",
            "|R2IOC5X92Y742K|          3|           36|         40|   N|                N|\n",
            "|R2YGCTPT3TH9N8|          1|           19|         22|   N|                Y|\n",
            "|R2Q3HCPXG31PH1|          1|            1|         20|   N|                Y|\n",
            "+--------------+-----------+-------------+-----------+----+-----------------+\n",
            "only showing top 20 rows\n",
            "\n"
          ]
        }
      ]
    },
    {
      "cell_type": "code",
      "source": [
        "from pyspark.sql.functions import count\n",
        "vine_df_filter = vine_df_counts.filter(\"helpful_votes / total_votes >= .50\")\n",
        "vine_df_filter.show()"
      ],
      "metadata": {
        "id": "NZ5cNxqOASdd",
        "colab": {
          "base_uri": "https://localhost:8080/"
        },
        "outputId": "b9db1796-2f8e-4bcc-b9be-d3c4762d01dd"
      },
      "execution_count": 6,
      "outputs": [
        {
          "output_type": "stream",
          "name": "stdout",
          "text": [
            "+--------------+-----------+-------------+-----------+----+-----------------+\n",
            "|     review_id|star_rating|helpful_votes|total_votes|vine|verified_purchase|\n",
            "+--------------+-----------+-------------+-----------+----+-----------------+\n",
            "|R11IBSD5E6HPSD|          1|           29|         31|   N|                Y|\n",
            "|R2KVWAYBPWK1OV|          5|           20|         22|   N|                N|\n",
            "|R1FLOE9E4ODIGR|          5|           34|         38|   N|                Y|\n",
            "| R6XTEZCSCUJ4J|          5|           20|         23|   N|                Y|\n",
            "|R2WVV9LQKIVMOX|          5|           23|         23|   N|                N|\n",
            "| RYIU6GIB4TYT2|          5|           30|         30|   N|                N|\n",
            "| RNXGKYVCJDDL7|          5|           28|         28|   N|                Y|\n",
            "|R1E8V7J0K61754|          5|           18|         20|   N|                Y|\n",
            "| RK52L3B5733BH|          5|           22|         22|   N|                N|\n",
            "|R213PW7RSI6Z7N|          5|           48|         50|   N|                Y|\n",
            "| RUBBVNQCSYCDF|          5|           23|         24|   N|                Y|\n",
            "|R3IU65JJME7XHN|          5|           25|         27|   N|                N|\n",
            "|R25UFG485PAY9U|          5|           21|         22|   N|                Y|\n",
            "|R3V2GWR8BL2801|          5|           45|         46|   N|                Y|\n",
            "|R3ORL5J14E2IV7|          5|           27|         28|   N|                Y|\n",
            "|R3KMWBKK1ZWL0I|          5|           20|         23|   N|                Y|\n",
            "|R33FFKFYFU92PR|          1|           35|         48|   N|                Y|\n",
            "|R2IOC5X92Y742K|          3|           36|         40|   N|                N|\n",
            "|R2YGCTPT3TH9N8|          1|           19|         22|   N|                Y|\n",
            "| RL5BOYS5UR4HR|          5|           25|         25|   N|                Y|\n",
            "+--------------+-----------+-------------+-----------+----+-----------------+\n",
            "only showing top 20 rows\n",
            "\n"
          ]
        }
      ]
    },
    {
      "cell_type": "code",
      "source": [
        ""
      ],
      "metadata": {
        "id": "bOHJCk4pCla0"
      },
      "execution_count": null,
      "outputs": []
    },
    {
      "cell_type": "code",
      "source": [
        "vine_df_program = vine_df_filter.filter(vine_df_filter[\"vine\"] == \"Y\")\n",
        "vine_df_program.show()"
      ],
      "metadata": {
        "colab": {
          "base_uri": "https://localhost:8080/"
        },
        "id": "spnlnjt1GTJc",
        "outputId": "3b92198e-e9be-401e-8932-ebde798da3e2"
      },
      "execution_count": 7,
      "outputs": [
        {
          "output_type": "stream",
          "name": "stdout",
          "text": [
            "+--------------+-----------+-------------+-----------+----+-----------------+\n",
            "|     review_id|star_rating|helpful_votes|total_votes|vine|verified_purchase|\n",
            "+--------------+-----------+-------------+-----------+----+-----------------+\n",
            "| RPJ7C4HP3BHXN|          5|           25|         29|   Y|                N|\n",
            "|R3SB08XK0M7993|          4|           44|         49|   Y|                N|\n",
            "|R26X1DACMCN3YF|          3|           16|         21|   Y|                N|\n",
            "|R17HKKDE9ZRVOO|          4|           31|         35|   Y|                N|\n",
            "|R1R7GNSCMO8U7I|          4|           24|         28|   Y|                N|\n",
            "|R2T83WIPG3IX5D|          4|           72|         76|   Y|                N|\n",
            "| RD006IWFCUA5A|          5|          122|        133|   Y|                N|\n",
            "| REOQCBUVUPXP1|          4|           23|         27|   Y|                N|\n",
            "|R2336R80ZEOKTX|          5|           63|         63|   Y|                N|\n",
            "| RC1ZXE5GVL9TA|          4|           20|         23|   Y|                N|\n",
            "|R2J7WSJ8EX3D5S|          5|           30|         32|   Y|                N|\n",
            "|R2QSLH5GY4OMNH|          5|           44|         45|   Y|                N|\n",
            "|R2A0F7MYQGBPEG|          4|           33|         40|   Y|                N|\n",
            "| R140DK42LYQWL|          4|           62|         65|   Y|                N|\n",
            "|R3HJAGVD491IFV|          5|          105|        105|   Y|                N|\n",
            "|R2N6KZ8A8T26IR|          1|           24|         26|   Y|                N|\n",
            "|R2AUGMTZKSPJST|          5|           19|         21|   Y|                N|\n",
            "|R1C3PCFS00UHBA|          5|           25|         26|   Y|                N|\n",
            "| RY1C7QLDFKZPG|          5|           26|         26|   Y|                N|\n",
            "| R1O5J8O83PI4Q|          4|           24|         24|   Y|                N|\n",
            "+--------------+-----------+-------------+-----------+----+-----------------+\n",
            "only showing top 20 rows\n",
            "\n"
          ]
        }
      ]
    },
    {
      "cell_type": "code",
      "source": [
        "vine_df_noprogram = vine_df_filter.filter(vine_df_filter[\"vine\"] == \"N\")\n",
        "vine_df_noprogram.show()"
      ],
      "metadata": {
        "id": "Qlbvs46xATH-",
        "colab": {
          "base_uri": "https://localhost:8080/"
        },
        "outputId": "57eed43d-ccf5-4b76-89d4-6803f9e3cf5d"
      },
      "execution_count": 8,
      "outputs": [
        {
          "output_type": "stream",
          "name": "stdout",
          "text": [
            "+--------------+-----------+-------------+-----------+----+-----------------+\n",
            "|     review_id|star_rating|helpful_votes|total_votes|vine|verified_purchase|\n",
            "+--------------+-----------+-------------+-----------+----+-----------------+\n",
            "|R11IBSD5E6HPSD|          1|           29|         31|   N|                Y|\n",
            "|R2KVWAYBPWK1OV|          5|           20|         22|   N|                N|\n",
            "|R1FLOE9E4ODIGR|          5|           34|         38|   N|                Y|\n",
            "| R6XTEZCSCUJ4J|          5|           20|         23|   N|                Y|\n",
            "|R2WVV9LQKIVMOX|          5|           23|         23|   N|                N|\n",
            "| RYIU6GIB4TYT2|          5|           30|         30|   N|                N|\n",
            "| RNXGKYVCJDDL7|          5|           28|         28|   N|                Y|\n",
            "|R1E8V7J0K61754|          5|           18|         20|   N|                Y|\n",
            "| RK52L3B5733BH|          5|           22|         22|   N|                N|\n",
            "|R213PW7RSI6Z7N|          5|           48|         50|   N|                Y|\n",
            "| RUBBVNQCSYCDF|          5|           23|         24|   N|                Y|\n",
            "|R3IU65JJME7XHN|          5|           25|         27|   N|                N|\n",
            "|R25UFG485PAY9U|          5|           21|         22|   N|                Y|\n",
            "|R3V2GWR8BL2801|          5|           45|         46|   N|                Y|\n",
            "|R3ORL5J14E2IV7|          5|           27|         28|   N|                Y|\n",
            "|R3KMWBKK1ZWL0I|          5|           20|         23|   N|                Y|\n",
            "|R33FFKFYFU92PR|          1|           35|         48|   N|                Y|\n",
            "|R2IOC5X92Y742K|          3|           36|         40|   N|                N|\n",
            "|R2YGCTPT3TH9N8|          1|           19|         22|   N|                Y|\n",
            "| RL5BOYS5UR4HR|          5|           25|         25|   N|                Y|\n",
            "+--------------+-----------+-------------+-----------+----+-----------------+\n",
            "only showing top 20 rows\n",
            "\n"
          ]
        }
      ]
    },
    {
      "cell_type": "code",
      "source": [
        "import pandas as pd\n",
        "pd_program = vine_df_program.toPandas()\n",
        "pd_program_count = pd_program[\"star_rating\"].count()\n",
        "pd_program_count\n",
        "\n"
      ],
      "metadata": {
        "colab": {
          "base_uri": "https://localhost:8080/"
        },
        "id": "nnsovZ_2MpM1",
        "outputId": "f447d7cf-2fc1-4a39-a9db-8136f215620f"
      },
      "execution_count": 9,
      "outputs": [
        {
          "output_type": "execute_result",
          "data": {
            "text/plain": [
              "21"
            ]
          },
          "metadata": {},
          "execution_count": 9
        }
      ]
    },
    {
      "cell_type": "code",
      "source": [
        "pd_program_five = pd_program.loc[pd_program[\"star_rating\"] == 5][\"star_rating\"].count()\n",
        "pd_program_five"
      ],
      "metadata": {
        "colab": {
          "base_uri": "https://localhost:8080/"
        },
        "id": "3ZCcHTAdQH1Q",
        "outputId": "fbb96d81-a63b-4e0d-afc8-06f6e0976626"
      },
      "execution_count": 10,
      "outputs": [
        {
          "output_type": "execute_result",
          "data": {
            "text/plain": [
              "10"
            ]
          },
          "metadata": {},
          "execution_count": 10
        }
      ]
    },
    {
      "cell_type": "code",
      "source": [
        "percentage_program = pd_program_five / pd_program_count * 100\n",
        "percentage_program"
      ],
      "metadata": {
        "colab": {
          "base_uri": "https://localhost:8080/"
        },
        "id": "KZ45Bs31RvmI",
        "outputId": "fa1249e6-86d4-4ed5-cd7a-c9725444e32f"
      },
      "execution_count": 11,
      "outputs": [
        {
          "output_type": "execute_result",
          "data": {
            "text/plain": [
              "47.61904761904761"
            ]
          },
          "metadata": {},
          "execution_count": 11
        }
      ]
    },
    {
      "cell_type": "code",
      "source": [
        "import pandas as pd\n",
        "nonpd_program = vine_df_noprogram.toPandas()\n",
        "nonpd_program_count = nonpd_program[\"star_rating\"].count()\n",
        "nonpd_program_count"
      ],
      "metadata": {
        "colab": {
          "base_uri": "https://localhost:8080/"
        },
        "id": "mM3uJuuxBlHo",
        "outputId": "d9ee98e5-aeda-4d35-b2be-c1fc93282951"
      },
      "execution_count": 12,
      "outputs": [
        {
          "output_type": "execute_result",
          "data": {
            "text/plain": [
              "6690"
            ]
          },
          "metadata": {},
          "execution_count": 12
        }
      ]
    },
    {
      "cell_type": "code",
      "source": [
        "nonpd_program_five = nonpd_program.loc[nonpd_program[\"star_rating\"] == 5][\"star_rating\"].count()\n",
        "nonpd_program_five"
      ],
      "metadata": {
        "colab": {
          "base_uri": "https://localhost:8080/"
        },
        "id": "JVIv2fRuBlU-",
        "outputId": "40caa4e6-8b6b-4b40-dcb7-18388c0c774c"
      },
      "execution_count": 13,
      "outputs": [
        {
          "output_type": "execute_result",
          "data": {
            "text/plain": [
              "3448"
            ]
          },
          "metadata": {},
          "execution_count": 13
        }
      ]
    },
    {
      "cell_type": "code",
      "source": [
        "percentage_noprogram = nonpd_program_five / nonpd_program_count * 100\n",
        "percentage_noprogram"
      ],
      "metadata": {
        "colab": {
          "base_uri": "https://localhost:8080/"
        },
        "id": "w5PHnTn-CxL1",
        "outputId": "484cc54e-e6c9-4971-8574-f23c19436825"
      },
      "execution_count": 14,
      "outputs": [
        {
          "output_type": "execute_result",
          "data": {
            "text/plain": [
              "51.53961136023917"
            ]
          },
          "metadata": {},
          "execution_count": 14
        }
      ]
    }
  ]
}